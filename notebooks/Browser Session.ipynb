{
 "cells": [
  {
   "cell_type": "markdown",
   "metadata": {},
   "source": [
    "**Don't forget to make a copy before starting**\n",
    "\n",
    "Start up the browser session, and log in."
   ]
  },
  {
   "cell_type": "code",
   "execution_count": null,
   "metadata": {},
   "outputs": [],
   "source": [
    "from cfme.utils.appliance import current_appliance\n",
    "from cfme.utils.appliance.implementations.ui import navigate_to\n",
    "from cfme.utils import providers, version, conf\n",
    "from cfme.configure import configuration \n",
    "# conf.env['appliances'][0]['hostname'] = '10.8.59.157'\n",
    "navigate_to(current_appliance.server, 'Dashboard')\n",
    "\n",
    "\n",
    "# ADD SINGLE PROVIDER\n",
    "# providers.setup_provider(provider_yaml_key)\n",
    "\n",
    "# ADD ALL INFRA PROVIDERS\n",
    "# providers.setup_infrastructure_providers(validate=False, check_existing=False)\n",
    "\n",
    "# ADD ALL CLOUD PROVIDERS\n",
    "# providers.setup_cloud_providers(validate=False, check_existing=False)\n"
   ]
  },
  {
   "cell_type": "markdown",
   "metadata": {},
   "source": [
    "Now, work with `browser`, `nav`, etc. to hack on CFME, interactively."
   ]
  },
  {
   "cell_type": "code",
   "execution_count": null,
   "metadata": {},
   "outputs": [],
   "source": []
  }
 ],
 "metadata": {
  "kernelspec": {
   "display_name": "Python 2",
   "language": "python",
   "name": "python2"
  },
  "language_info": {
   "codemirror_mode": {
    "name": "ipython",
    "version": 2
   },
   "file_extension": ".py",
   "mimetype": "text/x-python",
   "name": "python",
   "nbconvert_exporter": "python",
   "pygments_lexer": "ipython2",
   "version": "2.7.15"
  }
 },
 "nbformat": 4,
 "nbformat_minor": 1
}
